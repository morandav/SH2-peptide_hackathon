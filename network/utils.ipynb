{
  "nbformat": 4,
  "nbformat_minor": 0,
  "metadata": {
    "colab": {
      "name": "utils.ipynb",
      "provenance": [],
      "collapsed_sections": []
    },
    "kernelspec": {
      "name": "python3",
      "display_name": "Python 3"
    },
    "language_info": {
      "name": "python"
    }
  },
  "cells": [
    {
      "cell_type": "code",
      "metadata": {
        "id": "Hec1cryOeET1",
        "pycharm": {
          "name": "#%%\n",
          "is_executing": true
        },
        "colab": {
          "base_uri": "https://localhost:8080/"
        },
        "outputId": "aa777647-5407-4858-db95-d9ae5de1ccdb"
      },
      "source": [
        "# delete this cell if working on Pycharm\n",
        "!pip install Bio"
      ],
      "execution_count": null,
      "outputs": [
        {
          "output_type": "stream",
          "name": "stdout",
          "text": [
            "Looking in indexes: https://pypi.org/simple, https://us-python.pkg.dev/colab-wheels/public/simple/\n",
            "Requirement already satisfied: Bio in /usr/local/lib/python3.7/dist-packages (1.3.9)\n",
            "Requirement already satisfied: tqdm in /usr/local/lib/python3.7/dist-packages (from Bio) (4.64.0)\n",
            "Requirement already satisfied: requests in /usr/local/lib/python3.7/dist-packages (from Bio) (2.23.0)\n",
            "Requirement already satisfied: biopython>=1.79 in /usr/local/lib/python3.7/dist-packages (from Bio) (1.79)\n",
            "Requirement already satisfied: mygene in /usr/local/lib/python3.7/dist-packages (from Bio) (3.2.2)\n",
            "Requirement already satisfied: numpy in /usr/local/lib/python3.7/dist-packages (from biopython>=1.79->Bio) (1.21.6)\n",
            "Requirement already satisfied: biothings-client>=0.2.6 in /usr/local/lib/python3.7/dist-packages (from mygene->Bio) (0.2.6)\n",
            "Requirement already satisfied: chardet<4,>=3.0.2 in /usr/local/lib/python3.7/dist-packages (from requests->Bio) (3.0.4)\n",
            "Requirement already satisfied: idna<3,>=2.5 in /usr/local/lib/python3.7/dist-packages (from requests->Bio) (2.10)\n",
            "Requirement already satisfied: urllib3!=1.25.0,!=1.25.1,<1.26,>=1.21.1 in /usr/local/lib/python3.7/dist-packages (from requests->Bio) (1.24.3)\n",
            "Requirement already satisfied: certifi>=2017.4.17 in /usr/local/lib/python3.7/dist-packages (from requests->Bio) (2022.5.18.1)\n"
          ]
        }
      ]
    },
    {
      "cell_type": "code",
      "metadata": {
        "id": "mm2sUeKhcGEv",
        "pycharm": {
          "name": "#%%\n"
        }
      },
      "source": [
        "from Bio.PDB import *\n",
        "import numpy as np\n",
        "import os\n",
        "from tqdm import tqdm"
      ],
      "execution_count": null,
      "outputs": []
    },
    {
      "cell_type": "code",
      "metadata": {
        "id": "o9k0WEa0cNO0",
        "pycharm": {
          "name": "#%%\n"
        }
      },
      "source": [
        "## constants:\n",
        "\n",
        "AA_DICT = {\"A\": 0, \"C\": 1, \"D\": 2, \"E\": 3, \"F\": 4, \"G\": 5, \"H\": 6, \"I\": 7, \"K\": 8, \"L\": 9, \"M\": 10, \"N\": 11,\n",
        "           \"P\": 12, \"Q\": 13, \"R\": 14, \"S\": 15, \"T\": 16, \"W\": 17, \"Y\": 18, \"V\": 19, \"X\": 20, \"-\": 21}\n",
        "UNIQE_AA = {\"UNK\": \"X\", \"TYS\": \"Y\", \"FME\": \"M\", \"PCA\": \"Q\", \"CSD\":\"C\", \"MLY\":\"K\", \"SEP\":\"S\", \"YCM\":\"C\", \"CSX\": \"C\", \"NEP\":\"H\", \"IAS\":\"D\", \"PM3\": \"X\"}\n",
        "FEATURE_NUM = len(AA_DICT) + 2 \n",
        "BACKBONE_ATOMS = [\"N\", \"CA\", \"C\", \"O\", \"CB\"]\n",
        "OUTPUT_SIZE = len(BACKBONE_ATOMS) * 3\n",
        "\n",
        "SH2_MAX_LEN = 140 + 10 # maximum length in data + safety range\n",
        "PEP_MAX_LEN = 25 + 10 # maximum length in data + safety range"
      ],
      "execution_count": null,
      "outputs": []
    },
    {
      "cell_type": "code",
      "metadata": {
        "id": "qNxeyEawcZ9y",
        "pycharm": {
          "name": "#%%\n"
        }
      },
      "source": [
        "def get_seq_aa(pdb_file, chain_id):\n",
        "    \"\"\"\n",
        "    returns the sequence (String) and a list of all the aa residue objects of the given protein chain.\n",
        "    :param pdb_file: path to a pdb file\n",
        "    :param chain_id: chain letter (char)\n",
        "    :return: sequence, [aa objects]\n",
        "    \"\"\"\n",
        "    # load model\n",
        "    chain = PDBParser(QUIET=True).get_structure(pdb_file, pdb_file)[0][chain_id]\n",
        "\n",
        "    aa_residues = []\n",
        "    seq = \"\"\n",
        "    for residue in chain:\n",
        "        aa = residue.get_resname()\n",
        "        if not is_aa(aa) or not residue.has_id('CA'):\n",
        "            continue\n",
        "        # elif aa in [\"PM3\", \"PTH\"]:\n",
        "          # continue\n",
        "        elif aa in UNIQE_AA:\n",
        "            seq += UNIQE_AA[aa]\n",
        "        else:\n",
        "          try:\n",
        "            seq += Polypeptide.three_to_one(residue.get_resname())\n",
        "          except:\n",
        "            seq += \"X\"\n",
        "        aa_residues.append(residue)\n",
        "    return seq, aa_residues"
      ],
      "execution_count": null,
      "outputs": []
    },
    {
      "cell_type": "code",
      "source": [
        "from google.colab import drive\n",
        "drive.mount('/content/drive')"
      ],
      "metadata": {
        "colab": {
          "base_uri": "https://localhost:8080/"
        },
        "id": "JA57aWkFeybT",
        "outputId": "8f01208e-a4a3-4cd5-d4ad-7113c4ef534b"
      },
      "execution_count": null,
      "outputs": [
        {
          "output_type": "stream",
          "name": "stdout",
          "text": [
            "Drive already mounted at /content/drive; to attempt to forcibly remount, call drive.mount(\"/content/drive\", force_remount=True).\n"
          ]
        }
      ]
    },
    {
      "cell_type": "code",
      "metadata": {
        "id": "fNh1JDxtcgnF",
        "pycharm": {
          "name": "#%%\n",
          "is_executing": true
        }
      },
      "source": [
        "def generate_single_input(pdb_file, chain_id, max_len): \n",
        "    \"\"\"\n",
        "    receives a pdb file and returns its sequence in a one-hot encoding matrix (each row is an aa in the sequence, and\n",
        "    each column represents a different aa out of the 20 aa + 2 special columns).\n",
        "    :param pdb_file: path to a pdb file\n",
        "    :param chain_id: chain ID of the chain we want to genarate label to\n",
        "    :param max_len: maximum possible length of input (rows)\n",
        "    :return: numpy array of shape (max_len, FEATURE_NUM)\n",
        "    \"\"\"\n",
        "\n",
        "    # get seq and aa residues\n",
        "    seq, _ = get_seq_aa(pdb_file, chain_id)\n",
        "\n",
        "    output_map = np.zeros((max_len,FEATURE_NUM))\n",
        "    seq = seq + ((max_len - len(seq)) * \"-\")\n",
        "    for i in range(max_len):\n",
        "        output_map[i, AA_DICT[seq[i]]] = 1\n",
        "    return output_map\n",
        "    "
      ],
      "execution_count": null,
      "outputs": []
    },
    {
      "cell_type": "code",
      "source": [
        "def generate_input(sh2_path, sh2_chain_id, pep_path, pep_chain_id):\n",
        "  \"\"\"\n",
        "  receives 2 pdbs files and returns both of them sequence in a one-hot encoding \n",
        "  matrix (each row is an aa in the sequence, and\n",
        "  each column represents a different aa out of the 20 aa + 2 special columns).\n",
        "  in addition, last 2 colunms separates between sh2 and peptide\n",
        "  :param sh2_path: path to a pdb file of sh2\n",
        "  :param sh2_chain_id: chain ID of the SH2 we want to genarate label to\n",
        "  :param pep_path: path to a pdb file of a peptide\n",
        "  :param pep_chain_id: chain ID of the peptie we want to genarate label to\n",
        "  :return: numpy array of shape (SH2_MAX_LEN+PEP_MAX_LEN, FEATURE_NUM)\n",
        "  \"\"\"\n",
        "  sh2_input = generate_single_input(sh2_path, sh2_chain_id, SH2_MAX_LEN)\n",
        "  pep_input = generate_single_input(pep_path, pep_chain_id, PEP_MAX_LEN,)\n",
        "  \n",
        "  # last 2 colunms separates between sh2 and peptide\n",
        "  sh2_input[:,22] = 1\n",
        "  pep_input[:,23] = 1\n",
        "  return np.concatenate([sh2_input, pep_input], axis=0)\n"
      ],
      "metadata": {
        "id": "wBLuCcDthJdx"
      },
      "execution_count": null,
      "outputs": []
    },
    {
      "cell_type": "code",
      "metadata": {
        "id": "b5G7dbbccolV",
        "pycharm": {
          "name": "#%%\n"
        }
      },
      "source": [
        "def generate_single_label(pdb_file, chain_id, max_len):  # TODO: implement this!\n",
        "\n",
        "    \"\"\"\n",
        "    receives a pdb file and returns its pairwise distances and pairwise angles (omega, theta, phi).\n",
        "    :param pdb_file: path to a pdb file (nanobody, heavy chain has id 'H')\n",
        "    :return: 4 numpy arrays, the first one with size (CDR_MAX_LENGTH * CDR_MAX_LENGTH * 1) and the other three with\n",
        "    size (max_len * max_len * 2).\n",
        "    \"\"\"\n",
        "    # get seq and aa residues\n",
        "    seq, aa_residues = get_seq_aa(pdb_file, chain_id)\n",
        "\n",
        "    # turn into backbone + CB xyz matrix\n",
        "    xyz_matrix = np.zeros((max_len, OUTPUT_SIZE))\n",
        "    for i in range(len(aa_residues)):\n",
        "        for j, atom in enumerate(BACKBONE_ATOMS):\n",
        "            if not (atom==\"CB\" and seq[i] == \"G\"):\n",
        "                if atom in [a.id for a in aa_residues[i].get_atoms()]:\n",
        "                    xyz_matrix[i][3*j:3*j+3] = aa_residues[i][atom].get_coord()\n",
        "\n",
        "    return xyz_matrix"
      ],
      "execution_count": null,
      "outputs": []
    },
    {
      "cell_type": "code",
      "source": [
        "def generate_label(sh2_path, sh2_chain_id, pep_path, pep_chain_id):\n",
        "  \"\"\"\n",
        "  receives 2 pdb files and returns both of thembackbone + CB coordinates.\n",
        "  :param sh2_path: path to a pdb file of sh2\n",
        "  :param sh2_chain_id: chain ID of the SH2 we want to genarate label to\n",
        "  :param pep_path: path to a pdb file of a peptide\n",
        "  :param pep_chain_id: chain ID of the peptie we want to genarate label to\n",
        "  :return: numpy array of shape (SH2_MAX_LEN+PEP_MAX_LEN, OUTPUT_SIZE).\n",
        "  \"\"\"\n",
        "  sh2_label = generate_single_label(sh2_path, sh2_chain_id, SH2_MAX_LEN)\n",
        "  pep_label = generate_single_label(pep_path, pep_chain_id, PEP_MAX_LEN)\n",
        "  return np.concatenate([sh2_label, pep_label], axis=0)"
      ],
      "metadata": {
        "id": "QmHnK90OgS_c"
      },
      "execution_count": null,
      "outputs": []
    },
    {
      "cell_type": "code",
      "metadata": {
        "id": "f5Gxoyt_cowc",
        "pycharm": {
          "name": "#%%\n"
        },
        "colab": {
          "base_uri": "https://localhost:8080/"
        },
        "outputId": "077ca359-aa00-4e65-aa70-d898a3ac2b5b"
      },
      "source": [
        "if __name__ == '__main__':\n",
        "    \n",
        "    # this scripts creates input and labels to SH2 and peptide neural network,\n",
        "    # from data in data path\n",
        "    \n",
        "    # data path is a path to a directory:\n",
        "    # in the directory there are several directories, representing different pdbs, in each we have:\n",
        "    # pdb-name_SH2_<chain_id>.pdb\n",
        "    # pdb-name_peptide_<chain_id>.pdb\n",
        "\n",
        "    input_matrix = []\n",
        "    labels_matrix = []\n",
        "\n",
        "    all_seqs_sh2 = []\n",
        "    all_seqs_pep = []\n",
        "\n",
        "    all_pdbs = []\n",
        "\n",
        "    empty_files = 0\n",
        "\n",
        "    # TODO: change path to your data\n",
        "    data_path = \"/content/drive/MyDrive/protein_hackaton_data/actual_data\" \n",
        "    \n",
        "    for pdb_dir in tqdm(os.listdir(data_path)): # iterate all dirs\n",
        "      empty_f = False\n",
        "      print(\"now scanning dir: \", pdb_dir)\n",
        "      had_sh2 = False\n",
        "      has_pep = False\n",
        "      pdb_dir = os.path.join(data_path, pdb_dir)\n",
        "      for pdb in tqdm(os.listdir(pdb_dir)): # iterate sh2, pep\n",
        "        assert pdb.endswith(\".pdb\"), f\"invalid file name {pdb}\"\n",
        "        pdb_no_suffix = pdb[:-4] # remove .pdb\n",
        "        pdb_l = pdb_no_suffix.split(\"_\")\n",
        "        assert len(pdb_l)==3, f\"invalid file name {pdb}\"\n",
        "        pdb_name, protein_type, chain_id = pdb_l\n",
        "        if protein_type == \"SH2\":\n",
        "          sh2_path = os.path.join(pdb_dir, pdb)\n",
        "          if os.path. getsize(sh2_path) == 0:\n",
        "            raise Exception(f'File {sh2_path} is empty')\n",
        "          sh2_chain_id = chain_id\n",
        "          had_sh2 = True\n",
        "        elif protein_type == \"peptide\":\n",
        "          pep_path = os.path.join(pdb_dir, pdb)\n",
        "          if os.path. getsize(pep_path) == 0:\n",
        "            raise Exception(f'File {pep_path} is empty')\n",
        "          pep_chain_id = chain_id\n",
        "          has_pep = True\n",
        "        else:\n",
        "          raise Exception(f\"invalid protein type {protein_type}\")\n",
        "\n",
        "      if empty_f:\n",
        "        continue\n",
        "      if not had_sh2 or not has_pep:\n",
        "        raise Exception(\"sh2 or pep are missing!\")\n",
        "\n",
        "      input = generate_input(sh2_path, sh2_chain_id, pep_path, pep_chain_id)\n",
        "      input_matrix.append(input)\n",
        "\n",
        "\n",
        "      label = generate_label(sh2_path, sh2_chain_id, pep_path, pep_chain_id)\n",
        "      labels_matrix.append(label)\n",
        "\n",
        "      seq_sh2, _ = get_seq_aa(sh2_path, sh2_chain_id)\n",
        "      seq_pep, _ = get_seq_aa(pep_path, pep_chain_id)\n",
        "\n",
        "      all_seqs_sh2.append(seq_sh2)\n",
        "      all_seqs_pep.append(seq_pep)\n",
        "\n",
        "      all_pdbs.append(pdb_name)\n",
        "\n",
        "    # TODO: change path to where you want to save the data you need for the network train and validation\n",
        "    save_path = \"/content/drive/MyDrive/protein_hackaton_data/data_to_network/\"\n",
        "\n",
        "    assert len(all_seqs_sh2) == len(input_matrix)\n",
        "    \n",
        "    np.save(f\"{save_path}/train_input.npy\", np.array(input_matrix))\n",
        "    np.save(f\"{save_path}/train_labels.npy\", np.array(labels_matrix))\n",
        "    \n",
        "    with open(f\"{save_path}/all_seqs_sh2.txt\", \"w\") as f:\n",
        "      for s in all_seqs_sh2:\n",
        "        f.write(str(s) +\"\\n\")\n",
        "    \n",
        "    with open(f\"{save_path}/all_seqs_pep.txt\", \"w\") as f:\n",
        "      for s in all_seqs_pep:\n",
        "          f.write(str(s) +\"\\n\")\n",
        "\n",
        "    with open(f\"{save_path}/all_pdbs.txt\", \"w\") as f:\n",
        "      for s in all_pdbs:\n",
        "          f.write(str(s) +\"\\n\")\n",
        "\n",
        "    print(f\"Number of samples: {len(input_matrix)}\")\n"
      ],
      "execution_count": null,
      "outputs": [
        {
          "output_type": "stream",
          "name": "stderr",
          "text": [
            "\r  0%|          | 0/91 [00:00<?, ?it/s]"
          ]
        },
        {
          "output_type": "stream",
          "name": "stdout",
          "text": [
            "now scanning dir:  pdb6roz\n"
          ]
        },
        {
          "output_type": "stream",
          "name": "stderr",
          "text": [
            "\n",
            "100%|██████████| 2/2 [00:00<00:00, 1886.78it/s]\n"
          ]
        },
        {
          "output_type": "stream",
          "name": "stdout",
          "text": [
            "now scanning dir:  pdb6roy\n"
          ]
        },
        {
          "output_type": "stream",
          "name": "stderr",
          "text": [
            "\n",
            "100%|██████████| 2/2 [00:00<00:00, 2883.67it/s]\n",
            "  2%|▏         | 2/91 [00:00<00:08, 10.85it/s]"
          ]
        },
        {
          "output_type": "stream",
          "name": "stdout",
          "text": [
            "now scanning dir:  pdb6pxc\n"
          ]
        },
        {
          "output_type": "stream",
          "name": "stderr",
          "text": [
            "\n",
            "100%|██████████| 2/2 [00:00<00:00, 2971.52it/s]\n"
          ]
        },
        {
          "output_type": "stream",
          "name": "stdout",
          "text": [
            "now scanning dir:  pdb6kc4\n"
          ]
        },
        {
          "output_type": "stream",
          "name": "stderr",
          "text": [
            "\n",
            "100%|██████████| 2/2 [00:00<00:00, 1883.39it/s]\n",
            "  4%|▍         | 4/91 [00:00<00:08, 10.55it/s]"
          ]
        },
        {
          "output_type": "stream",
          "name": "stdout",
          "text": [
            "now scanning dir:  pdb6icg\n"
          ]
        },
        {
          "output_type": "stream",
          "name": "stderr",
          "text": [
            "\n",
            "100%|██████████| 2/2 [00:00<00:00, 2502.57it/s]\n"
          ]
        },
        {
          "output_type": "stream",
          "name": "stdout",
          "text": [
            "now scanning dir:  pdb5x94\n"
          ]
        },
        {
          "output_type": "stream",
          "name": "stderr",
          "text": [
            "\n",
            "100%|██████████| 2/2 [00:00<00:00, 3362.17it/s]\n",
            "  7%|▋         | 6/91 [00:00<00:07, 10.87it/s]"
          ]
        },
        {
          "output_type": "stream",
          "name": "stdout",
          "text": [
            "now scanning dir:  pdb5x7b\n"
          ]
        },
        {
          "output_type": "stream",
          "name": "stderr",
          "text": [
            "\n",
            "100%|██████████| 2/2 [00:00<00:00, 1943.61it/s]\n"
          ]
        },
        {
          "output_type": "stream",
          "name": "stdout",
          "text": [
            "now scanning dir:  pdb5u1q\n"
          ]
        },
        {
          "output_type": "stream",
          "name": "stderr",
          "text": [
            "\n",
            "100%|██████████| 2/2 [00:00<00:00, 1872.88it/s]\n",
            "  9%|▉         | 8/91 [00:00<00:07, 10.77it/s]"
          ]
        },
        {
          "output_type": "stream",
          "name": "stdout",
          "text": [
            "now scanning dir:  pdb5u06\n"
          ]
        },
        {
          "output_type": "stream",
          "name": "stderr",
          "text": [
            "\n",
            "100%|██████████| 2/2 [00:00<00:00, 1297.74it/s]\n"
          ]
        },
        {
          "output_type": "stream",
          "name": "stdout",
          "text": [
            "now scanning dir:  pdb5tyi\n"
          ]
        },
        {
          "output_type": "stream",
          "name": "stderr",
          "text": [
            "\n",
            "100%|██████████| 2/2 [00:00<00:00, 2923.88it/s]\n",
            " 11%|█         | 10/91 [00:01<00:09,  8.89it/s]"
          ]
        },
        {
          "output_type": "stream",
          "name": "stdout",
          "text": [
            "now scanning dir:  pdb6way\n"
          ]
        },
        {
          "output_type": "stream",
          "name": "stderr",
          "text": [
            "\n",
            "100%|██████████| 2/2 [00:00<00:00, 568.72it/s]\n"
          ]
        },
        {
          "output_type": "stream",
          "name": "stdout",
          "text": [
            "now scanning dir:  pdb5tqs\n"
          ]
        },
        {
          "output_type": "stream",
          "name": "stderr",
          "text": [
            "\n",
            "100%|██████████| 2/2 [00:00<00:00, 1975.18it/s]\n",
            " 13%|█▎        | 12/91 [00:01<00:08,  8.79it/s]"
          ]
        },
        {
          "output_type": "stream",
          "name": "stdout",
          "text": [
            "now scanning dir:  pdb5tq1\n"
          ]
        },
        {
          "output_type": "stream",
          "name": "stderr",
          "text": [
            "\n",
            "100%|██████████| 2/2 [00:00<00:00, 2637.93it/s]\n",
            " 14%|█▍        | 13/91 [00:01<00:09,  8.47it/s]"
          ]
        },
        {
          "output_type": "stream",
          "name": "stdout",
          "text": [
            "now scanning dir:  pdb5mtj\n"
          ]
        },
        {
          "output_type": "stream",
          "name": "stderr",
          "text": [
            "\n",
            "100%|██████████| 2/2 [00:00<00:00, 2641.25it/s]\n"
          ]
        },
        {
          "output_type": "stream",
          "name": "stdout",
          "text": [
            "now scanning dir:  pdb5gji\n"
          ]
        },
        {
          "output_type": "stream",
          "name": "stderr",
          "text": [
            "\n",
            "100%|██████████| 2/2 [00:00<00:00, 3310.42it/s]\n",
            " 16%|█▋        | 15/91 [00:01<00:09,  7.70it/s]"
          ]
        },
        {
          "output_type": "stream",
          "name": "stdout",
          "text": [
            "now scanning dir:  pdb5gjh\n"
          ]
        },
        {
          "output_type": "stream",
          "name": "stderr",
          "text": [
            "\n",
            "100%|██████████| 2/2 [00:00<00:00, 1364.45it/s]\n"
          ]
        },
        {
          "output_type": "stream",
          "name": "stdout",
          "text": [
            "now scanning dir:  pdb5eg3\n"
          ]
        },
        {
          "output_type": "stream",
          "name": "stderr",
          "text": [
            "\n",
            "100%|██████████| 2/2 [00:00<00:00, 1033.21it/s]\n",
            " 19%|█▊        | 17/91 [00:01<00:08,  8.67it/s]"
          ]
        },
        {
          "output_type": "stream",
          "name": "stdout",
          "text": [
            "now scanning dir:  pdb5eeq\n"
          ]
        },
        {
          "output_type": "stream",
          "name": "stderr",
          "text": [
            "\n",
            "100%|██████████| 2/2 [00:00<00:00, 1737.85it/s]\n",
            " 20%|█▉        | 18/91 [00:01<00:08,  8.89it/s]"
          ]
        },
        {
          "output_type": "stream",
          "name": "stdout",
          "text": [
            "now scanning dir:  pdb5eel\n"
          ]
        },
        {
          "output_type": "stream",
          "name": "stderr",
          "text": [
            "\n",
            "100%|██████████| 2/2 [00:00<00:00, 2302.03it/s]\n"
          ]
        },
        {
          "output_type": "stream",
          "name": "stdout",
          "text": [
            "now scanning dir:  pdb5df6\n"
          ]
        },
        {
          "output_type": "stream",
          "name": "stderr",
          "text": [
            "\n",
            "100%|██████████| 2/2 [00:00<00:00, 402.89it/s]\n",
            " 22%|██▏       | 20/91 [00:02<00:07,  9.61it/s]"
          ]
        },
        {
          "output_type": "stream",
          "name": "stdout",
          "text": [
            "now scanning dir:  pdb5aul\n"
          ]
        },
        {
          "output_type": "stream",
          "name": "stderr",
          "text": [
            "\n",
            "100%|██████████| 2/2 [00:00<00:00, 2893.62it/s]\n",
            " 23%|██▎       | 21/91 [00:02<00:07,  9.60it/s]"
          ]
        },
        {
          "output_type": "stream",
          "name": "stdout",
          "text": [
            "now scanning dir:  pdb4xz1\n"
          ]
        },
        {
          "output_type": "stream",
          "name": "stderr",
          "text": [
            "\n",
            "100%|██████████| 2/2 [00:00<00:00, 2869.86it/s]\n",
            " 24%|██▍       | 22/91 [00:02<00:07,  8.99it/s]"
          ]
        },
        {
          "output_type": "stream",
          "name": "stdout",
          "text": [
            "now scanning dir:  pdb4x6s\n"
          ]
        },
        {
          "output_type": "stream",
          "name": "stderr",
          "text": [
            "\n",
            "100%|██████████| 2/2 [00:00<00:00, 639.18it/s]\n",
            " 25%|██▌       | 23/91 [00:02<00:09,  7.49it/s]"
          ]
        },
        {
          "output_type": "stream",
          "name": "stdout",
          "text": [
            "now scanning dir:  pdb4u1p\n"
          ]
        },
        {
          "output_type": "stream",
          "name": "stderr",
          "text": [
            "\n",
            "100%|██████████| 2/2 [00:00<00:00, 1817.29it/s]\n"
          ]
        },
        {
          "output_type": "stream",
          "name": "stdout",
          "text": [
            "now scanning dir:  pdb4qsy\n"
          ]
        },
        {
          "output_type": "stream",
          "name": "stderr",
          "text": [
            "\n",
            "100%|██████████| 2/2 [00:00<00:00, 2815.91it/s]\n",
            " 27%|██▋       | 25/91 [00:02<00:07,  8.84it/s]"
          ]
        },
        {
          "output_type": "stream",
          "name": "stdout",
          "text": [
            "now scanning dir:  pdb4l1b\n"
          ]
        },
        {
          "output_type": "stream",
          "name": "stderr",
          "text": [
            "\n",
            "100%|██████████| 2/2 [00:00<00:00, 3090.87it/s]\n",
            " 29%|██▊       | 26/91 [00:02<00:07,  9.07it/s]"
          ]
        },
        {
          "output_type": "stream",
          "name": "stdout",
          "text": [
            "now scanning dir:  pdb4k45\n"
          ]
        },
        {
          "output_type": "stream",
          "name": "stderr",
          "text": [
            "\n",
            "100%|██████████| 2/2 [00:00<00:00, 2440.68it/s]\n"
          ]
        },
        {
          "output_type": "stream",
          "name": "stdout",
          "text": [
            "now scanning dir:  pdb4je4\n"
          ]
        },
        {
          "output_type": "stream",
          "name": "stderr",
          "text": [
            "\n",
            "100%|██████████| 2/2 [00:00<00:00, 718.02it/s]\n",
            " 31%|███       | 28/91 [00:03<00:06,  9.61it/s]"
          ]
        },
        {
          "output_type": "stream",
          "name": "stdout",
          "text": [
            "now scanning dir:  pdb4gl9\n"
          ]
        },
        {
          "output_type": "stream",
          "name": "stderr",
          "text": [
            "\n",
            "100%|██████████| 2/2 [00:00<00:00, 1893.16it/s]\n"
          ]
        },
        {
          "output_type": "stream",
          "name": "stdout",
          "text": [
            "now scanning dir:  pdb3wa4\n"
          ]
        },
        {
          "output_type": "stream",
          "name": "stderr",
          "text": [
            "\n",
            "100%|██████████| 2/2 [00:00<00:00, 3138.27it/s]\n",
            " 33%|███▎      | 30/91 [00:03<00:05, 10.19it/s]"
          ]
        },
        {
          "output_type": "stream",
          "name": "stdout",
          "text": [
            "now scanning dir:  pdb3tl0\n"
          ]
        },
        {
          "output_type": "stream",
          "name": "stderr",
          "text": [
            "\n",
            "100%|██████████| 2/2 [00:00<00:00, 1539.19it/s]\n"
          ]
        },
        {
          "output_type": "stream",
          "name": "stdout",
          "text": [
            "now scanning dir:  pdb3pqz\n"
          ]
        },
        {
          "output_type": "stream",
          "name": "stderr",
          "text": [
            "\n",
            "100%|██████████| 2/2 [00:00<00:00, 2059.06it/s]\n",
            " 35%|███▌      | 32/91 [00:03<00:06,  8.72it/s]"
          ]
        },
        {
          "output_type": "stream",
          "name": "stdout",
          "text": [
            "now scanning dir:  pdb3mxy\n"
          ]
        },
        {
          "output_type": "stream",
          "name": "stderr",
          "text": [
            "\n",
            "100%|██████████| 2/2 [00:00<00:00, 1428.58it/s]\n"
          ]
        },
        {
          "output_type": "stream",
          "name": "stdout",
          "text": [
            "now scanning dir:  pdb3mxc\n"
          ]
        },
        {
          "output_type": "stream",
          "name": "stderr",
          "text": [
            "\n",
            "100%|██████████| 2/2 [00:00<00:00, 3014.23it/s]\n",
            " 37%|███▋      | 34/91 [00:03<00:06,  9.45it/s]"
          ]
        },
        {
          "output_type": "stream",
          "name": "stdout",
          "text": [
            "now scanning dir:  pdb3maz\n"
          ]
        },
        {
          "output_type": "stream",
          "name": "stderr",
          "text": [
            "\n",
            "100%|██████████| 2/2 [00:00<00:00, 589.79it/s]\n"
          ]
        },
        {
          "output_type": "stream",
          "name": "stdout",
          "text": [
            "now scanning dir:  pdb3k2m\n"
          ]
        },
        {
          "output_type": "stream",
          "name": "stderr",
          "text": [
            "\n",
            "100%|██████████| 2/2 [00:00<00:00, 1674.71it/s]\n",
            " 40%|███▉      | 36/91 [00:03<00:05,  9.89it/s]"
          ]
        },
        {
          "output_type": "stream",
          "name": "stdout",
          "text": [
            "now scanning dir:  pdb3hiz\n"
          ]
        },
        {
          "output_type": "stream",
          "name": "stderr",
          "text": [
            "\n",
            "100%|██████████| 2/2 [00:00<00:00, 658.34it/s]\n"
          ]
        },
        {
          "output_type": "stream",
          "name": "stdout",
          "text": [
            "now scanning dir:  pdb3hhm\n"
          ]
        },
        {
          "output_type": "stream",
          "name": "stderr",
          "text": [
            "\n",
            "100%|██████████| 2/2 [00:00<00:00, 1108.58it/s]\n",
            " 42%|████▏     | 38/91 [00:04<00:05,  9.90it/s]"
          ]
        },
        {
          "output_type": "stream",
          "name": "stdout",
          "text": [
            "now scanning dir:  pdb2vif\n"
          ]
        },
        {
          "output_type": "stream",
          "name": "stderr",
          "text": [
            "\n",
            "100%|██████████| 2/2 [00:00<00:00, 1422.04it/s]\n"
          ]
        },
        {
          "output_type": "stream",
          "name": "stdout",
          "text": [
            "now scanning dir:  pdb2oq1\n"
          ]
        },
        {
          "output_type": "stream",
          "name": "stderr",
          "text": [
            "\n",
            "100%|██████████| 2/2 [00:00<00:00, 1119.82it/s]\n",
            " 44%|████▍     | 40/91 [00:04<00:05, 10.02it/s]"
          ]
        },
        {
          "output_type": "stream",
          "name": "stdout",
          "text": [
            "now scanning dir:  pdb2iui\n"
          ]
        },
        {
          "output_type": "stream",
          "name": "stderr",
          "text": [
            "\n",
            "100%|██████████| 2/2 [00:00<00:00, 2742.27it/s]\n"
          ]
        },
        {
          "output_type": "stream",
          "name": "stdout",
          "text": [
            "now scanning dir:  pdb2hmh\n"
          ]
        },
        {
          "output_type": "stream",
          "name": "stderr",
          "text": [
            "\n",
            "100%|██████████| 2/2 [00:00<00:00, 2852.30it/s]\n",
            " 46%|████▌     | 42/91 [00:04<00:04, 10.29it/s]"
          ]
        },
        {
          "output_type": "stream",
          "name": "stdout",
          "text": [
            "now scanning dir:  pdb2hdx\n"
          ]
        },
        {
          "output_type": "stream",
          "name": "stderr",
          "text": [
            "\n",
            "100%|██████████| 2/2 [00:00<00:00, 1933.75it/s]\n"
          ]
        },
        {
          "output_type": "stream",
          "name": "stdout",
          "text": [
            "now scanning dir:  pdb2cia\n"
          ]
        },
        {
          "output_type": "stream",
          "name": "stderr",
          "text": [
            "\n",
            "100%|██████████| 2/2 [00:00<00:00, 2810.25it/s]\n",
            " 48%|████▊     | 44/91 [00:04<00:05,  8.89it/s]"
          ]
        },
        {
          "output_type": "stream",
          "name": "stdout",
          "text": [
            "now scanning dir:  pdb2ci9\n"
          ]
        },
        {
          "output_type": "stream",
          "name": "stderr",
          "text": [
            "\n",
            "100%|██████████| 2/2 [00:00<00:00, 2825.40it/s]\n"
          ]
        },
        {
          "output_type": "stream",
          "name": "stdout",
          "text": [
            "now scanning dir:  pdb1zfp\n"
          ]
        },
        {
          "output_type": "stream",
          "name": "stderr",
          "text": [
            "\n",
            "100%|██████████| 2/2 [00:00<00:00, 2918.79it/s]\n",
            " 51%|█████     | 46/91 [00:04<00:04,  9.46it/s]"
          ]
        },
        {
          "output_type": "stream",
          "name": "stdout",
          "text": [
            "now scanning dir:  pdb1x27\n"
          ]
        },
        {
          "output_type": "stream",
          "name": "stderr",
          "text": [
            "\n",
            "100%|██████████| 2/2 [00:00<00:00, 3062.65it/s]\n"
          ]
        },
        {
          "output_type": "stream",
          "name": "stdout",
          "text": [
            "now scanning dir:  pdb1tze\n"
          ]
        },
        {
          "output_type": "stream",
          "name": "stderr",
          "text": [
            "\n",
            "100%|██████████| 2/2 [00:00<00:00, 688.10it/s]\n",
            " 53%|█████▎    | 48/91 [00:05<00:04,  9.91it/s]"
          ]
        },
        {
          "output_type": "stream",
          "name": "stdout",
          "text": [
            "now scanning dir:  pdb1sps\n"
          ]
        },
        {
          "output_type": "stream",
          "name": "stderr",
          "text": [
            "\n",
            "100%|██████████| 2/2 [00:00<00:00, 3077.26it/s]\n"
          ]
        },
        {
          "output_type": "stream",
          "name": "stdout",
          "text": [
            "now scanning dir:  pdb1shb\n"
          ]
        },
        {
          "output_type": "stream",
          "name": "stderr",
          "text": [
            "\n",
            "100%|██████████| 2/2 [00:00<00:00, 2928.98it/s]\n",
            " 55%|█████▍    | 50/91 [00:05<00:04,  9.94it/s]"
          ]
        },
        {
          "output_type": "stream",
          "name": "stdout",
          "text": [
            "now scanning dir:  pdb1r1q\n"
          ]
        },
        {
          "output_type": "stream",
          "name": "stderr",
          "text": [
            "\n",
            "100%|██████████| 2/2 [00:00<00:00, 449.69it/s]\n"
          ]
        },
        {
          "output_type": "stream",
          "name": "stdout",
          "text": [
            "now scanning dir:  pdb1p13\n"
          ]
        },
        {
          "output_type": "stream",
          "name": "stderr",
          "text": [
            "\n",
            "100%|██████████| 2/2 [00:00<00:00, 1258.42it/s]\n",
            " 57%|█████▋    | 52/91 [00:05<00:04,  8.63it/s]"
          ]
        },
        {
          "output_type": "stream",
          "name": "stdout",
          "text": [
            "now scanning dir:  pdb1nzv\n"
          ]
        },
        {
          "output_type": "stream",
          "name": "stderr",
          "text": [
            "\n",
            "100%|██████████| 2/2 [00:00<00:00, 2793.41it/s]\n"
          ]
        },
        {
          "output_type": "stream",
          "name": "stdout",
          "text": [
            "now scanning dir:  pdb1nzl\n"
          ]
        },
        {
          "output_type": "stream",
          "name": "stderr",
          "text": [
            "\n",
            "100%|██████████| 2/2 [00:00<00:00, 1369.35it/s]\n",
            " 59%|█████▉    | 54/91 [00:05<00:04,  9.07it/s]"
          ]
        },
        {
          "output_type": "stream",
          "name": "stdout",
          "text": [
            "now scanning dir:  pdb1m27\n"
          ]
        },
        {
          "output_type": "stream",
          "name": "stderr",
          "text": [
            "\n",
            "100%|██████████| 2/2 [00:00<00:00, 1585.15it/s]\n"
          ]
        },
        {
          "output_type": "stream",
          "name": "stdout",
          "text": [
            "now scanning dir:  pdb1lkl\n"
          ]
        },
        {
          "output_type": "stream",
          "name": "stderr",
          "text": [
            "\n",
            "100%|██████████| 2/2 [00:00<00:00, 2906.66it/s]\n",
            " 62%|██████▏   | 56/91 [00:05<00:03,  9.66it/s]"
          ]
        },
        {
          "output_type": "stream",
          "name": "stdout",
          "text": [
            "now scanning dir:  pdb1lkk\n"
          ]
        },
        {
          "output_type": "stream",
          "name": "stderr",
          "text": [
            "\n",
            "100%|██████████| 2/2 [00:00<00:00, 3288.36it/s]\n"
          ]
        },
        {
          "output_type": "stream",
          "name": "stdout",
          "text": [
            "now scanning dir:  pdb1lck\n"
          ]
        },
        {
          "output_type": "stream",
          "name": "stderr",
          "text": [
            "\n",
            "100%|██████████| 2/2 [00:00<00:00, 2770.35it/s]\n",
            " 64%|██████▎   | 58/91 [00:06<00:03,  9.21it/s]"
          ]
        },
        {
          "output_type": "stream",
          "name": "stdout",
          "text": [
            "now scanning dir:  pdb1lcj\n"
          ]
        },
        {
          "output_type": "stream",
          "name": "stderr",
          "text": [
            "\n",
            "100%|██████████| 2/2 [00:00<00:00, 3116.12it/s]\n",
            " 65%|██████▍   | 59/91 [00:06<00:04,  7.93it/s]"
          ]
        },
        {
          "output_type": "stream",
          "name": "stdout",
          "text": [
            "now scanning dir:  pdb1kc2\n"
          ]
        },
        {
          "output_type": "stream",
          "name": "stderr",
          "text": [
            "\n",
            "100%|██████████| 2/2 [00:00<00:00, 1410.80it/s]\n"
          ]
        },
        {
          "output_type": "stream",
          "name": "stdout",
          "text": [
            "now scanning dir:  pdb1jyr\n"
          ]
        },
        {
          "output_type": "stream",
          "name": "stderr",
          "text": [
            "\n",
            "100%|██████████| 2/2 [00:00<00:00, 1491.84it/s]\n",
            " 67%|██████▋   | 61/91 [00:06<00:03,  8.77it/s]"
          ]
        },
        {
          "output_type": "stream",
          "name": "stdout",
          "text": [
            "now scanning dir:  pdb1is0\n"
          ]
        },
        {
          "output_type": "stream",
          "name": "stderr",
          "text": [
            "\n",
            "100%|██████████| 2/2 [00:00<00:00, 1368.67it/s]\n"
          ]
        },
        {
          "output_type": "stream",
          "name": "stdout",
          "text": [
            "now scanning dir:  pdb1i3z\n"
          ]
        },
        {
          "output_type": "stream",
          "name": "stderr",
          "text": [
            "\n",
            "100%|██████████| 2/2 [00:00<00:00, 2958.94it/s]\n",
            " 69%|██████▉   | 63/91 [00:06<00:02,  9.51it/s]"
          ]
        },
        {
          "output_type": "stream",
          "name": "stdout",
          "text": [
            "now scanning dir:  pdb1f1w\n"
          ]
        },
        {
          "output_type": "stream",
          "name": "stderr",
          "text": [
            "\n",
            "100%|██████████| 2/2 [00:00<00:00, 837.19it/s]\n"
          ]
        },
        {
          "output_type": "stream",
          "name": "stdout",
          "text": [
            "now scanning dir:  pdb1d4w\n"
          ]
        },
        {
          "output_type": "stream",
          "name": "stderr",
          "text": [
            "\n",
            "100%|██████████| 2/2 [00:00<00:00, 301.10it/s]\n",
            " 71%|███████▏  | 65/91 [00:06<00:02,  9.96it/s]"
          ]
        },
        {
          "output_type": "stream",
          "name": "stdout",
          "text": [
            "now scanning dir:  pdb1d4t\n"
          ]
        },
        {
          "output_type": "stream",
          "name": "stderr",
          "text": [
            "\n",
            "100%|██████████| 2/2 [00:00<00:00, 2870.84it/s]\n"
          ]
        },
        {
          "output_type": "stream",
          "name": "stdout",
          "text": [
            "now scanning dir:  pdb1cwe\n"
          ]
        },
        {
          "output_type": "stream",
          "name": "stderr",
          "text": [
            "\n",
            "100%|██████████| 2/2 [00:00<00:00, 3364.86it/s]\n",
            " 74%|███████▎  | 67/91 [00:07<00:02,  9.90it/s]"
          ]
        },
        {
          "output_type": "stream",
          "name": "stdout",
          "text": [
            "now scanning dir:  pdb1cwd\n"
          ]
        },
        {
          "output_type": "stream",
          "name": "stderr",
          "text": [
            "\n",
            "100%|██████████| 2/2 [00:00<00:00, 3276.80it/s]\n"
          ]
        },
        {
          "output_type": "stream",
          "name": "stdout",
          "text": [
            "now scanning dir:  pdb1bmb\n"
          ]
        },
        {
          "output_type": "stream",
          "name": "stderr",
          "text": [
            "\n",
            "100%|██████████| 2/2 [00:00<00:00, 3013.15it/s]\n",
            " 76%|███████▌  | 69/91 [00:07<00:02,  8.78it/s]"
          ]
        },
        {
          "output_type": "stream",
          "name": "stdout",
          "text": [
            "now scanning dir:  pdb1bhf\n"
          ]
        },
        {
          "output_type": "stream",
          "name": "stderr",
          "text": [
            "\n",
            "100%|██████████| 2/2 [00:00<00:00, 1158.97it/s]\n"
          ]
        },
        {
          "output_type": "stream",
          "name": "stdout",
          "text": [
            "now scanning dir:  pdb1ayb\n"
          ]
        },
        {
          "output_type": "stream",
          "name": "stderr",
          "text": [
            "\n",
            "100%|██████████| 2/2 [00:00<00:00, 2154.79it/s]\n",
            " 78%|███████▊  | 71/91 [00:07<00:02,  9.31it/s]"
          ]
        },
        {
          "output_type": "stream",
          "name": "stdout",
          "text": [
            "now scanning dir:  pdb1aya\n"
          ]
        },
        {
          "output_type": "stream",
          "name": "stderr",
          "text": [
            "\n",
            "100%|██████████| 2/2 [00:00<00:00, 2864.96it/s]\n"
          ]
        },
        {
          "output_type": "stream",
          "name": "stdout",
          "text": [
            "now scanning dir:  pdb1a81\n"
          ]
        },
        {
          "output_type": "stream",
          "name": "stderr",
          "text": [
            "\n",
            "100%|██████████| 2/2 [00:00<00:00, 952.82it/s]\n",
            " 80%|████████  | 73/91 [00:07<00:01,  9.88it/s]"
          ]
        },
        {
          "output_type": "stream",
          "name": "stdout",
          "text": [
            "now scanning dir:  pdb6r5g\n"
          ]
        },
        {
          "output_type": "stream",
          "name": "stderr",
          "text": [
            "\n",
            "100%|██████████| 2/2 [00:00<00:00, 1504.68it/s]\n"
          ]
        },
        {
          "output_type": "stream",
          "name": "stdout",
          "text": [
            "now scanning dir:  pdb2yu7\n"
          ]
        },
        {
          "output_type": "stream",
          "name": "stderr",
          "text": [
            "\n",
            "100%|██████████| 2/2 [00:00<00:00, 3159.55it/s]\n",
            " 82%|████████▏ | 75/91 [00:08<00:02,  7.89it/s]"
          ]
        },
        {
          "output_type": "stream",
          "name": "stdout",
          "text": [
            "now scanning dir:  pdb2rsy\n"
          ]
        },
        {
          "output_type": "stream",
          "name": "stderr",
          "text": [
            "\n",
            "100%|██████████| 2/2 [00:00<00:00, 2769.43it/s]\n",
            " 84%|████████▎ | 76/91 [00:08<00:01,  7.87it/s]"
          ]
        },
        {
          "output_type": "stream",
          "name": "stdout",
          "text": [
            "now scanning dir:  pdb2rmx\n"
          ]
        },
        {
          "output_type": "stream",
          "name": "stderr",
          "text": [
            "\n",
            "100%|██████████| 2/2 [00:00<00:00, 2213.94it/s]\n",
            " 85%|████████▍ | 77/91 [00:08<00:01,  7.71it/s]"
          ]
        },
        {
          "output_type": "stream",
          "name": "stdout",
          "text": [
            "now scanning dir:  pdb2ple\n"
          ]
        },
        {
          "output_type": "stream",
          "name": "stderr",
          "text": [
            "\n",
            "100%|██████████| 2/2 [00:00<00:00, 3044.87it/s]\n",
            " 86%|████████▌ | 78/91 [00:08<00:01,  7.64it/s]"
          ]
        },
        {
          "output_type": "stream",
          "name": "stdout",
          "text": [
            "now scanning dir:  pdb2pld\n"
          ]
        },
        {
          "output_type": "stream",
          "name": "stderr",
          "text": [
            "\n",
            "100%|██████████| 2/2 [00:00<00:00, 1930.19it/s]\n",
            " 87%|████████▋ | 79/91 [00:08<00:01,  6.29it/s]"
          ]
        },
        {
          "output_type": "stream",
          "name": "stdout",
          "text": [
            "now scanning dir:  pdb2mrk\n"
          ]
        },
        {
          "output_type": "stream",
          "name": "stderr",
          "text": [
            "\n",
            "100%|██████████| 2/2 [00:00<00:00, 1277.39it/s]\n",
            " 88%|████████▊ | 80/91 [00:08<00:01,  6.70it/s]"
          ]
        },
        {
          "output_type": "stream",
          "name": "stdout",
          "text": [
            "now scanning dir:  pdb2lnw\n"
          ]
        },
        {
          "output_type": "stream",
          "name": "stderr",
          "text": [
            "\n",
            "100%|██████████| 2/2 [00:00<00:00, 700.98it/s]\n",
            " 89%|████████▉ | 81/91 [00:09<00:01,  6.82it/s]"
          ]
        },
        {
          "output_type": "stream",
          "name": "stdout",
          "text": [
            "now scanning dir:  pdb2lct\n"
          ]
        },
        {
          "output_type": "stream",
          "name": "stderr",
          "text": [
            "\n",
            "100%|██████████| 2/2 [00:00<00:00, 1193.94it/s]\n",
            " 90%|█████████ | 82/91 [00:09<00:01,  5.71it/s]"
          ]
        },
        {
          "output_type": "stream",
          "name": "stdout",
          "text": [
            "now scanning dir:  pdb2k7a\n"
          ]
        },
        {
          "output_type": "stream",
          "name": "stderr",
          "text": [
            "\n",
            "100%|██████████| 2/2 [00:00<00:00, 488.96it/s]\n",
            " 91%|█████████ | 83/91 [00:09<00:01,  6.03it/s]"
          ]
        },
        {
          "output_type": "stream",
          "name": "stdout",
          "text": [
            "now scanning dir:  pdb2k79\n"
          ]
        },
        {
          "output_type": "stream",
          "name": "stderr",
          "text": [
            "\n",
            "100%|██████████| 2/2 [00:00<00:00, 3022.92it/s]\n",
            " 92%|█████████▏| 84/91 [00:09<00:01,  6.34it/s]"
          ]
        },
        {
          "output_type": "stream",
          "name": "stdout",
          "text": [
            "now scanning dir:  pdb2eu0\n"
          ]
        },
        {
          "output_type": "stream",
          "name": "stderr",
          "text": [
            "\n",
            "100%|██████████| 2/2 [00:00<00:00, 3575.71it/s]\n",
            " 93%|█████████▎| 85/91 [00:09<00:00,  6.71it/s]"
          ]
        },
        {
          "output_type": "stream",
          "name": "stdout",
          "text": [
            "now scanning dir:  pdb1qg1\n"
          ]
        },
        {
          "output_type": "stream",
          "name": "stderr",
          "text": [
            "\n",
            "100%|██████████| 2/2 [00:00<00:00, 725.16it/s]\n",
            " 95%|█████████▍| 86/91 [00:10<00:00,  5.57it/s]"
          ]
        },
        {
          "output_type": "stream",
          "name": "stdout",
          "text": [
            "now scanning dir:  pdb1pic\n"
          ]
        },
        {
          "output_type": "stream",
          "name": "stderr",
          "text": [
            "\n",
            "100%|██████████| 2/2 [00:00<00:00, 2855.21it/s]\n",
            " 96%|█████████▌| 87/91 [00:10<00:00,  6.03it/s]"
          ]
        },
        {
          "output_type": "stream",
          "name": "stdout",
          "text": [
            "now scanning dir:  pdb1ka7\n"
          ]
        },
        {
          "output_type": "stream",
          "name": "stderr",
          "text": [
            "\n",
            "100%|██████████| 2/2 [00:00<00:00, 3401.71it/s]\n",
            " 97%|█████████▋| 88/91 [00:10<00:00,  6.32it/s]"
          ]
        },
        {
          "output_type": "stream",
          "name": "stdout",
          "text": [
            "now scanning dir:  pdb1csz\n"
          ]
        },
        {
          "output_type": "stream",
          "name": "stderr",
          "text": [
            "\n",
            "100%|██████████| 2/2 [00:00<00:00, 506.25it/s]\n",
            " 98%|█████████▊| 89/91 [00:10<00:00,  5.47it/s]"
          ]
        },
        {
          "output_type": "stream",
          "name": "stdout",
          "text": [
            "now scanning dir:  pdb1csy\n"
          ]
        },
        {
          "output_type": "stream",
          "name": "stderr",
          "text": [
            "\n",
            "100%|██████████| 2/2 [00:00<00:00, 3338.09it/s]\n",
            " 99%|█████████▉| 90/91 [00:10<00:00,  5.89it/s]"
          ]
        },
        {
          "output_type": "stream",
          "name": "stdout",
          "text": [
            "now scanning dir:  pdb1aot\n"
          ]
        },
        {
          "output_type": "stream",
          "name": "stderr",
          "text": [
            "\n",
            "100%|██████████| 2/2 [00:00<00:00, 1673.04it/s]\n",
            "100%|██████████| 91/91 [00:10<00:00,  8.42it/s]"
          ]
        },
        {
          "output_type": "stream",
          "name": "stdout",
          "text": [
            "Number of samples: 91\n"
          ]
        },
        {
          "output_type": "stream",
          "name": "stderr",
          "text": [
            "\n"
          ]
        }
      ]
    }
  ]
}